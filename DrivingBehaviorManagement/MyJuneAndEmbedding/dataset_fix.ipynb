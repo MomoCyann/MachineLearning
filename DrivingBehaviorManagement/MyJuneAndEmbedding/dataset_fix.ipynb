{
 "cells": [
  {
   "cell_type": "code",
   "execution_count": 1,
   "outputs": [
    {
     "data": {
      "text/plain": "       Unnamed: 0   车辆编号            开始时间            结束时间  持续时间  最大速度  最小速度  \\\n0               0  77102  20200901000000  20200901000012    12  56.0  51.0   \n1               1  77102  20200901000055  20200901000101     6  60.0  46.5   \n2               2  77102  20200901000103  20200901000104     1  46.0  45.5   \n3               3  77102  20200901000110  20200901000128    18  49.0  43.0   \n4               4  77102  20200901000129  20200901000140    11  49.0  42.0   \n...           ...    ...             ...             ...   ...   ...   ...   \n63704       63704  77102  20200930235842  20200930235847     5  22.5  16.0   \n63705       63705  77102  20200930235848  20200930235902    14  40.0  24.0   \n63706       63706  77102  20200930235926  20200930235931     5  39.0  22.0   \n63707       63707  77102  20200930235931  20200930235941    10  23.0  18.0   \n63708       63708  77102  20200930235934  20200930235943     9  26.5  18.0   \n\n       速度极差     速度标准差       速度均值  ...     加速度均值    首尾加速度和   加加速度最大值   加加速度最小值  \\\n0       5.0  1.781313  53.115385  ...  0.115741  0.138889  0.138889  0.000000   \n1      13.5  5.353014  52.714286  ...  0.625000  0.694444  0.833333 -0.694444   \n2       0.5  0.353553  45.750000  ...  0.138889  0.277778  0.000000  0.000000   \n3       6.0  2.345520  46.342105  ... -0.077160  0.138889  0.138889 -0.277778   \n4       7.0  2.503331  44.900000  ...  0.169753  0.000000  0.277778 -0.069444   \n...     ...       ...        ...  ...       ...       ...       ...       ...   \n63704   6.5  2.809953  19.625000  ...  0.370370  0.833333  0.138889 -0.069444   \n63705  16.0  5.363397  32.346154  ...  0.335648  0.416667  0.277778 -0.138889   \n63706  17.0  6.621304  30.083333  ...  0.944444  1.527778  0.138889 -0.555556   \n63707   5.0  1.833712  19.812500  ...  0.309829  0.972222  0.277778 -0.138889   \n63708   8.5  3.683942  21.750000  ...  0.238095  0.138889  0.138889 -0.277778   \n\n         加加速度极差   加加速度标准差    加加速度均值   加加速度首尾和   事件类型  异常标签  \n0      0.138889  0.041877  0.012626  0.000000  accel     1  \n1      1.527778  0.541489  0.027778  0.833333  brake     1  \n2      0.000000  0.000000  0.000000  0.000000  brake     1  \n3      0.416667  0.091480 -0.008170  0.000000  accel     1  \n4      0.347222  0.110972  0.043403  0.208333  accel     1  \n...         ...       ...       ...       ...    ...   ...  \n63704  0.208333  0.147314  0.034722  0.069444  accel     1  \n63705  0.416667  0.124578  0.018939  0.277778  accel     1  \n63706  0.694444  0.307966 -0.104167 -0.555556  brake     1  \n63707  0.416667  0.127219 -0.005787  0.069444   turn     1  \n63708  0.416667  0.141753 -0.011574 -0.277778  accel     1  \n\n[63071 rows x 25 columns]",
      "text/html": "<div>\n<style scoped>\n    .dataframe tbody tr th:only-of-type {\n        vertical-align: middle;\n    }\n\n    .dataframe tbody tr th {\n        vertical-align: top;\n    }\n\n    .dataframe thead th {\n        text-align: right;\n    }\n</style>\n<table border=\"1\" class=\"dataframe\">\n  <thead>\n    <tr style=\"text-align: right;\">\n      <th></th>\n      <th>Unnamed: 0</th>\n      <th>车辆编号</th>\n      <th>开始时间</th>\n      <th>结束时间</th>\n      <th>持续时间</th>\n      <th>最大速度</th>\n      <th>最小速度</th>\n      <th>速度极差</th>\n      <th>速度标准差</th>\n      <th>速度均值</th>\n      <th>...</th>\n      <th>加速度均值</th>\n      <th>首尾加速度和</th>\n      <th>加加速度最大值</th>\n      <th>加加速度最小值</th>\n      <th>加加速度极差</th>\n      <th>加加速度标准差</th>\n      <th>加加速度均值</th>\n      <th>加加速度首尾和</th>\n      <th>事件类型</th>\n      <th>异常标签</th>\n    </tr>\n  </thead>\n  <tbody>\n    <tr>\n      <th>0</th>\n      <td>0</td>\n      <td>77102</td>\n      <td>20200901000000</td>\n      <td>20200901000012</td>\n      <td>12</td>\n      <td>56.0</td>\n      <td>51.0</td>\n      <td>5.0</td>\n      <td>1.781313</td>\n      <td>53.115385</td>\n      <td>...</td>\n      <td>0.115741</td>\n      <td>0.138889</td>\n      <td>0.138889</td>\n      <td>0.000000</td>\n      <td>0.138889</td>\n      <td>0.041877</td>\n      <td>0.012626</td>\n      <td>0.000000</td>\n      <td>accel</td>\n      <td>1</td>\n    </tr>\n    <tr>\n      <th>1</th>\n      <td>1</td>\n      <td>77102</td>\n      <td>20200901000055</td>\n      <td>20200901000101</td>\n      <td>6</td>\n      <td>60.0</td>\n      <td>46.5</td>\n      <td>13.5</td>\n      <td>5.353014</td>\n      <td>52.714286</td>\n      <td>...</td>\n      <td>0.625000</td>\n      <td>0.694444</td>\n      <td>0.833333</td>\n      <td>-0.694444</td>\n      <td>1.527778</td>\n      <td>0.541489</td>\n      <td>0.027778</td>\n      <td>0.833333</td>\n      <td>brake</td>\n      <td>1</td>\n    </tr>\n    <tr>\n      <th>2</th>\n      <td>2</td>\n      <td>77102</td>\n      <td>20200901000103</td>\n      <td>20200901000104</td>\n      <td>1</td>\n      <td>46.0</td>\n      <td>45.5</td>\n      <td>0.5</td>\n      <td>0.353553</td>\n      <td>45.750000</td>\n      <td>...</td>\n      <td>0.138889</td>\n      <td>0.277778</td>\n      <td>0.000000</td>\n      <td>0.000000</td>\n      <td>0.000000</td>\n      <td>0.000000</td>\n      <td>0.000000</td>\n      <td>0.000000</td>\n      <td>brake</td>\n      <td>1</td>\n    </tr>\n    <tr>\n      <th>3</th>\n      <td>3</td>\n      <td>77102</td>\n      <td>20200901000110</td>\n      <td>20200901000128</td>\n      <td>18</td>\n      <td>49.0</td>\n      <td>43.0</td>\n      <td>6.0</td>\n      <td>2.345520</td>\n      <td>46.342105</td>\n      <td>...</td>\n      <td>-0.077160</td>\n      <td>0.138889</td>\n      <td>0.138889</td>\n      <td>-0.277778</td>\n      <td>0.416667</td>\n      <td>0.091480</td>\n      <td>-0.008170</td>\n      <td>0.000000</td>\n      <td>accel</td>\n      <td>1</td>\n    </tr>\n    <tr>\n      <th>4</th>\n      <td>4</td>\n      <td>77102</td>\n      <td>20200901000129</td>\n      <td>20200901000140</td>\n      <td>11</td>\n      <td>49.0</td>\n      <td>42.0</td>\n      <td>7.0</td>\n      <td>2.503331</td>\n      <td>44.900000</td>\n      <td>...</td>\n      <td>0.169753</td>\n      <td>0.000000</td>\n      <td>0.277778</td>\n      <td>-0.069444</td>\n      <td>0.347222</td>\n      <td>0.110972</td>\n      <td>0.043403</td>\n      <td>0.208333</td>\n      <td>accel</td>\n      <td>1</td>\n    </tr>\n    <tr>\n      <th>...</th>\n      <td>...</td>\n      <td>...</td>\n      <td>...</td>\n      <td>...</td>\n      <td>...</td>\n      <td>...</td>\n      <td>...</td>\n      <td>...</td>\n      <td>...</td>\n      <td>...</td>\n      <td>...</td>\n      <td>...</td>\n      <td>...</td>\n      <td>...</td>\n      <td>...</td>\n      <td>...</td>\n      <td>...</td>\n      <td>...</td>\n      <td>...</td>\n      <td>...</td>\n      <td>...</td>\n    </tr>\n    <tr>\n      <th>63704</th>\n      <td>63704</td>\n      <td>77102</td>\n      <td>20200930235842</td>\n      <td>20200930235847</td>\n      <td>5</td>\n      <td>22.5</td>\n      <td>16.0</td>\n      <td>6.5</td>\n      <td>2.809953</td>\n      <td>19.625000</td>\n      <td>...</td>\n      <td>0.370370</td>\n      <td>0.833333</td>\n      <td>0.138889</td>\n      <td>-0.069444</td>\n      <td>0.208333</td>\n      <td>0.147314</td>\n      <td>0.034722</td>\n      <td>0.069444</td>\n      <td>accel</td>\n      <td>1</td>\n    </tr>\n    <tr>\n      <th>63705</th>\n      <td>63705</td>\n      <td>77102</td>\n      <td>20200930235848</td>\n      <td>20200930235902</td>\n      <td>14</td>\n      <td>40.0</td>\n      <td>24.0</td>\n      <td>16.0</td>\n      <td>5.363397</td>\n      <td>32.346154</td>\n      <td>...</td>\n      <td>0.335648</td>\n      <td>0.416667</td>\n      <td>0.277778</td>\n      <td>-0.138889</td>\n      <td>0.416667</td>\n      <td>0.124578</td>\n      <td>0.018939</td>\n      <td>0.277778</td>\n      <td>accel</td>\n      <td>1</td>\n    </tr>\n    <tr>\n      <th>63706</th>\n      <td>63706</td>\n      <td>77102</td>\n      <td>20200930235926</td>\n      <td>20200930235931</td>\n      <td>5</td>\n      <td>39.0</td>\n      <td>22.0</td>\n      <td>17.0</td>\n      <td>6.621304</td>\n      <td>30.083333</td>\n      <td>...</td>\n      <td>0.944444</td>\n      <td>1.527778</td>\n      <td>0.138889</td>\n      <td>-0.555556</td>\n      <td>0.694444</td>\n      <td>0.307966</td>\n      <td>-0.104167</td>\n      <td>-0.555556</td>\n      <td>brake</td>\n      <td>1</td>\n    </tr>\n    <tr>\n      <th>63707</th>\n      <td>63707</td>\n      <td>77102</td>\n      <td>20200930235931</td>\n      <td>20200930235941</td>\n      <td>10</td>\n      <td>23.0</td>\n      <td>18.0</td>\n      <td>5.0</td>\n      <td>1.833712</td>\n      <td>19.812500</td>\n      <td>...</td>\n      <td>0.309829</td>\n      <td>0.972222</td>\n      <td>0.277778</td>\n      <td>-0.138889</td>\n      <td>0.416667</td>\n      <td>0.127219</td>\n      <td>-0.005787</td>\n      <td>0.069444</td>\n      <td>turn</td>\n      <td>1</td>\n    </tr>\n    <tr>\n      <th>63708</th>\n      <td>63708</td>\n      <td>77102</td>\n      <td>20200930235934</td>\n      <td>20200930235943</td>\n      <td>9</td>\n      <td>26.5</td>\n      <td>18.0</td>\n      <td>8.5</td>\n      <td>3.683942</td>\n      <td>21.750000</td>\n      <td>...</td>\n      <td>0.238095</td>\n      <td>0.138889</td>\n      <td>0.138889</td>\n      <td>-0.277778</td>\n      <td>0.416667</td>\n      <td>0.141753</td>\n      <td>-0.011574</td>\n      <td>-0.277778</td>\n      <td>accel</td>\n      <td>1</td>\n    </tr>\n  </tbody>\n</table>\n<p>63071 rows × 25 columns</p>\n</div>"
     },
     "execution_count": 1,
     "metadata": {},
     "output_type": "execute_result"
    }
   ],
   "source": [
    "import pandas as pd\n",
    "import numpy as np\n",
    "import matplotlib.pyplot as plt\n",
    "root = \"D:/RX-105/wakeup/MyJuneAndEmbedding/\"\n",
    "datasetpath = \"D:/RX-105/wakeup/MyJuneAndEmbedding/dataset/\"\n",
    "datapath = 'D:/RX-105/wakeup/MyJuneAndEmbedding/data/'\n",
    "eventpath = \"D:/RX-105/wakeup/MyJuneAndEmbedding/event/\"\n",
    "\n",
    "data = pd.read_csv(root + 'allevents_washed_outlier.csv', encoding='gbk')\n",
    "data2 = pd.read_csv(root + 'allevents_washed_outlier2.csv', encoding='gbk')\n",
    "data.loc[data2['异常标签2']==-1, ['异常标签']] = -2\n",
    "outlier = data[data['异常标签']==-2]\n",
    "mider = data[data['异常标签']==-1]\n",
    "inner = data[data['异常标签']==1]\n",
    "midrisk_and_safe = data[(data['异常标签']==1) | (data['异常标签']==-1)]\n",
    "midrisk_and_safe"
   ],
   "metadata": {
    "collapsed": false,
    "pycharm": {
     "name": "#%%\n"
    }
   }
  },
  {
   "cell_type": "code",
   "execution_count": 2,
   "outputs": [
    {
     "name": "stderr",
     "output_type": "stream",
     "text": [
      "D:\\RX-105\\MachineLearning\\venv\\lib\\site-packages\\pandas\\core\\frame.py:4913: SettingWithCopyWarning: \n",
      "A value is trying to be set on a copy of a slice from a DataFrame\n",
      "\n",
      "See the caveats in the documentation: https://pandas.pydata.org/pandas-docs/stable/user_guide/indexing.html#returning-a-view-versus-a-copy\n",
      "  errors=errors,\n"
     ]
    }
   ],
   "source": [
    "# columns = ['Unnamed: 0', '车辆编号', '开始时间', '结束时间', '持续时间', '加加速度最大值', '加加速度最小值' ,'加加速度极差', '加加速度标准差', '加加速度均值',\n",
    "#                      '加加速度首尾和', '速度变异系数', '速度时变波动性', '事件类型']\n",
    "columns = ['Unnamed: 0', '车辆编号', '开始时间', '结束时间', '持续时间', '加加速度最大值', '加加速度最小值' ,'加加速度极差', '加加速度标准差', '加加速度均值',\n",
    "                     '加加速度首尾和', '事件类型']\n",
    "outlier.drop(labels=columns, axis=1, inplace=True)\n",
    "mider.drop(labels=columns, axis=1, inplace=True)\n",
    "inner.drop(labels=columns, axis=1, inplace=True)\n",
    "\n",
    "midrisk_and_safe.drop(labels=columns, axis=1, inplace=True)"
   ],
   "metadata": {
    "collapsed": false,
    "pycharm": {
     "name": "#%%\n"
    }
   }
  },
  {
   "cell_type": "code",
   "execution_count": 3,
   "outputs": [
    {
     "data": {
      "text/plain": "       最大速度  最小速度  速度极差     速度标准差       速度均值   临界速度     最大加速度     最小加速度  \\\n0      56.0  51.0   5.0  1.781313  53.115385  51.25  0.138889  0.000000   \n1      60.0  46.5  13.5  5.353014  52.714286  59.50  1.111111  0.277778   \n2      46.0  45.5   0.5  0.353553  45.750000  45.75  0.138889  0.138889   \n3      49.0  43.0   6.0  2.345520  46.342105  48.25  0.138889 -0.277778   \n4      49.0  42.0   7.0  2.503331  44.900000  44.50  0.277778 -0.138889   \n...     ...   ...   ...       ...        ...    ...       ...       ...   \n63066  22.5  16.0   6.5  2.809953  19.625000  17.50  0.416667  0.277778   \n63067  40.0  24.0  16.0  5.363397  32.346154  25.75  0.416667  0.138889   \n63068  39.0  22.0  17.0  6.621304  30.083333  23.00  1.111111  0.555556   \n63069  23.0  18.0   5.0  1.833712  19.812500  18.00  0.555556  0.000000   \n63070  26.5  18.0   8.5  3.683942  21.750000  21.50  0.416667  0.000000   \n\n          加速度极差    加速度标准差     加速度均值    首尾加速度和  异常标签  \n0      0.138889  0.054062  0.115741  0.138889     1  \n1      0.833333  0.380363  0.625000  0.694444     1  \n2      0.000000  0.000000  0.138889  0.277778     1  \n3      0.416667  0.118831 -0.077160  0.138889     1  \n4      0.416667  0.134976  0.169753  0.000000     1  \n...         ...       ...       ...       ...   ...  \n63066  0.138889  0.080188  0.370370  0.833333     1  \n63067  0.277778  0.092855  0.335648  0.416667     1  \n63068  0.555556  0.228218  0.944444  1.527778     1  \n63069  0.555556  0.213319  0.309829  0.972222     1  \n63070  0.416667  0.191685  0.238095  0.138889     1  \n\n[63071 rows x 13 columns]",
      "text/html": "<div>\n<style scoped>\n    .dataframe tbody tr th:only-of-type {\n        vertical-align: middle;\n    }\n\n    .dataframe tbody tr th {\n        vertical-align: top;\n    }\n\n    .dataframe thead th {\n        text-align: right;\n    }\n</style>\n<table border=\"1\" class=\"dataframe\">\n  <thead>\n    <tr style=\"text-align: right;\">\n      <th></th>\n      <th>最大速度</th>\n      <th>最小速度</th>\n      <th>速度极差</th>\n      <th>速度标准差</th>\n      <th>速度均值</th>\n      <th>临界速度</th>\n      <th>最大加速度</th>\n      <th>最小加速度</th>\n      <th>加速度极差</th>\n      <th>加速度标准差</th>\n      <th>加速度均值</th>\n      <th>首尾加速度和</th>\n      <th>异常标签</th>\n    </tr>\n  </thead>\n  <tbody>\n    <tr>\n      <th>0</th>\n      <td>56.0</td>\n      <td>51.0</td>\n      <td>5.0</td>\n      <td>1.781313</td>\n      <td>53.115385</td>\n      <td>51.25</td>\n      <td>0.138889</td>\n      <td>0.000000</td>\n      <td>0.138889</td>\n      <td>0.054062</td>\n      <td>0.115741</td>\n      <td>0.138889</td>\n      <td>1</td>\n    </tr>\n    <tr>\n      <th>1</th>\n      <td>60.0</td>\n      <td>46.5</td>\n      <td>13.5</td>\n      <td>5.353014</td>\n      <td>52.714286</td>\n      <td>59.50</td>\n      <td>1.111111</td>\n      <td>0.277778</td>\n      <td>0.833333</td>\n      <td>0.380363</td>\n      <td>0.625000</td>\n      <td>0.694444</td>\n      <td>1</td>\n    </tr>\n    <tr>\n      <th>2</th>\n      <td>46.0</td>\n      <td>45.5</td>\n      <td>0.5</td>\n      <td>0.353553</td>\n      <td>45.750000</td>\n      <td>45.75</td>\n      <td>0.138889</td>\n      <td>0.138889</td>\n      <td>0.000000</td>\n      <td>0.000000</td>\n      <td>0.138889</td>\n      <td>0.277778</td>\n      <td>1</td>\n    </tr>\n    <tr>\n      <th>3</th>\n      <td>49.0</td>\n      <td>43.0</td>\n      <td>6.0</td>\n      <td>2.345520</td>\n      <td>46.342105</td>\n      <td>48.25</td>\n      <td>0.138889</td>\n      <td>-0.277778</td>\n      <td>0.416667</td>\n      <td>0.118831</td>\n      <td>-0.077160</td>\n      <td>0.138889</td>\n      <td>1</td>\n    </tr>\n    <tr>\n      <th>4</th>\n      <td>49.0</td>\n      <td>42.0</td>\n      <td>7.0</td>\n      <td>2.503331</td>\n      <td>44.900000</td>\n      <td>44.50</td>\n      <td>0.277778</td>\n      <td>-0.138889</td>\n      <td>0.416667</td>\n      <td>0.134976</td>\n      <td>0.169753</td>\n      <td>0.000000</td>\n      <td>1</td>\n    </tr>\n    <tr>\n      <th>...</th>\n      <td>...</td>\n      <td>...</td>\n      <td>...</td>\n      <td>...</td>\n      <td>...</td>\n      <td>...</td>\n      <td>...</td>\n      <td>...</td>\n      <td>...</td>\n      <td>...</td>\n      <td>...</td>\n      <td>...</td>\n      <td>...</td>\n    </tr>\n    <tr>\n      <th>63066</th>\n      <td>22.5</td>\n      <td>16.0</td>\n      <td>6.5</td>\n      <td>2.809953</td>\n      <td>19.625000</td>\n      <td>17.50</td>\n      <td>0.416667</td>\n      <td>0.277778</td>\n      <td>0.138889</td>\n      <td>0.080188</td>\n      <td>0.370370</td>\n      <td>0.833333</td>\n      <td>1</td>\n    </tr>\n    <tr>\n      <th>63067</th>\n      <td>40.0</td>\n      <td>24.0</td>\n      <td>16.0</td>\n      <td>5.363397</td>\n      <td>32.346154</td>\n      <td>25.75</td>\n      <td>0.416667</td>\n      <td>0.138889</td>\n      <td>0.277778</td>\n      <td>0.092855</td>\n      <td>0.335648</td>\n      <td>0.416667</td>\n      <td>1</td>\n    </tr>\n    <tr>\n      <th>63068</th>\n      <td>39.0</td>\n      <td>22.0</td>\n      <td>17.0</td>\n      <td>6.621304</td>\n      <td>30.083333</td>\n      <td>23.00</td>\n      <td>1.111111</td>\n      <td>0.555556</td>\n      <td>0.555556</td>\n      <td>0.228218</td>\n      <td>0.944444</td>\n      <td>1.527778</td>\n      <td>1</td>\n    </tr>\n    <tr>\n      <th>63069</th>\n      <td>23.0</td>\n      <td>18.0</td>\n      <td>5.0</td>\n      <td>1.833712</td>\n      <td>19.812500</td>\n      <td>18.00</td>\n      <td>0.555556</td>\n      <td>0.000000</td>\n      <td>0.555556</td>\n      <td>0.213319</td>\n      <td>0.309829</td>\n      <td>0.972222</td>\n      <td>1</td>\n    </tr>\n    <tr>\n      <th>63070</th>\n      <td>26.5</td>\n      <td>18.0</td>\n      <td>8.5</td>\n      <td>3.683942</td>\n      <td>21.750000</td>\n      <td>21.50</td>\n      <td>0.416667</td>\n      <td>0.000000</td>\n      <td>0.416667</td>\n      <td>0.191685</td>\n      <td>0.238095</td>\n      <td>0.138889</td>\n      <td>1</td>\n    </tr>\n  </tbody>\n</table>\n<p>63071 rows × 13 columns</p>\n</div>"
     },
     "execution_count": 3,
     "metadata": {},
     "output_type": "execute_result"
    }
   ],
   "source": [
    "outlier.reset_index(drop=True,inplace=True)\n",
    "mider.reset_index(drop=True,inplace=True)\n",
    "inner.reset_index(drop=True,inplace=True)\n",
    "\n",
    "midrisk_and_safe.reset_index(drop=True,inplace=True)\n",
    "midrisk_and_safe"
   ],
   "metadata": {
    "collapsed": false,
    "pycharm": {
     "name": "#%%\n"
    }
   }
  },
  {
   "cell_type": "code",
   "execution_count": 4,
   "outputs": [
    {
     "name": "stderr",
     "output_type": "stream",
     "text": [
      "D:\\RX-105\\MachineLearning\\venv\\lib\\site-packages\\pandas\\core\\indexing.py:1817: SettingWithCopyWarning: \n",
      "A value is trying to be set on a copy of a slice from a DataFrame.\n",
      "Try using .loc[row_indexer,col_indexer] = value instead\n",
      "\n",
      "See the caveats in the documentation: https://pandas.pydata.org/pandas-docs/stable/user_guide/indexing.html#returning-a-view-versus-a-copy\n",
      "  self._setitem_single_column(loc, value, pi)\n"
     ]
    }
   ],
   "source": [
    "midrisk_and_safe.loc[midrisk_and_safe['异常标签']==1, ['异常标签']] = 1\n",
    "outlier.loc[outlier['异常标签']==-2, ['异常标签']] = -1\n",
    "def load_data(raw_data):\n",
    "    label = raw_data.iloc[:, -1:]\n",
    "    data = raw_data.iloc[:, :-1]\n",
    "    return data, label\n",
    "data_midrisk_and_safe, label_midrisk_and_safe = load_data(midrisk_and_safe)\n",
    "data_highrisk, label_highrisk = load_data(outlier)"
   ],
   "metadata": {
    "collapsed": false,
    "pycharm": {
     "name": "#%%\n"
    }
   }
  },
  {
   "cell_type": "code",
   "execution_count": 5,
   "outputs": [],
   "source": [
    "from sklearn.preprocessing import MinMaxScaler\n",
    "def minmax(trainset):\n",
    "    \"\"\"归一化\"\"\"\n",
    "    scaler = MinMaxScaler()\n",
    "    trainset_new = scaler.fit_transform(trainset)\n",
    "    return trainset_new\n",
    "data_midrisk_and_safe = minmax(data_midrisk_and_safe)\n",
    "data_highrisk = minmax(data_highrisk)"
   ],
   "metadata": {
    "collapsed": false,
    "pycharm": {
     "name": "#%%\n"
    }
   }
  },
  {
   "cell_type": "code",
   "execution_count": 6,
   "outputs": [
    {
     "data": {
      "text/plain": "(array([[-1],\n        [-1],\n        [-1],\n        [-1],\n        [-1],\n        [-1],\n        [-1],\n        [-1],\n        [-1],\n        [-1],\n        [-1],\n        [-1],\n        [-1],\n        [-1],\n        [-1],\n        [-1],\n        [-1],\n        [-1],\n        [-1],\n        [-1],\n        [-1],\n        [-1],\n        [-1],\n        [-1],\n        [-1],\n        [-1],\n        [-1],\n        [-1],\n        [-1],\n        [-1],\n        [-1],\n        [-1],\n        [-1],\n        [-1],\n        [-1],\n        [-1],\n        [-1],\n        [-1],\n        [-1],\n        [-1],\n        [-1],\n        [-1],\n        [-1],\n        [-1],\n        [-1],\n        [-1],\n        [-1],\n        [-1],\n        [-1],\n        [-1],\n        [-1],\n        [-1],\n        [-1],\n        [-1],\n        [-1],\n        [-1],\n        [-1],\n        [-1],\n        [-1],\n        [-1],\n        [-1],\n        [-1],\n        [-1],\n        [-1],\n        [-1],\n        [-1],\n        [-1],\n        [-1],\n        [-1],\n        [-1],\n        [-1],\n        [-1],\n        [-1],\n        [-1],\n        [-1],\n        [-1],\n        [-1],\n        [-1],\n        [-1],\n        [-1],\n        [-1],\n        [-1],\n        [-1],\n        [-1],\n        [-1],\n        [-1],\n        [-1],\n        [-1],\n        [-1],\n        [-1],\n        [-1],\n        [-1],\n        [-1],\n        [-1],\n        [-1],\n        [-1],\n        [-1],\n        [-1],\n        [-1],\n        [-1],\n        [-1],\n        [-1],\n        [-1],\n        [-1],\n        [-1],\n        [-1],\n        [-1],\n        [-1],\n        [-1],\n        [-1],\n        [-1],\n        [-1],\n        [-1],\n        [-1],\n        [-1],\n        [-1],\n        [-1],\n        [-1],\n        [-1],\n        [-1],\n        [-1],\n        [-1],\n        [-1],\n        [-1],\n        [-1],\n        [-1],\n        [-1],\n        [-1],\n        [-1],\n        [-1],\n        [-1],\n        [-1],\n        [-1],\n        [-1],\n        [-1],\n        [-1],\n        [-1],\n        [-1],\n        [-1],\n        [-1],\n        [-1],\n        [-1],\n        [-1],\n        [-1],\n        [-1],\n        [-1],\n        [-1],\n        [-1],\n        [-1],\n        [-1],\n        [-1],\n        [-1],\n        [-1],\n        [-1],\n        [-1],\n        [-1],\n        [-1],\n        [-1],\n        [-1],\n        [-1],\n        [-1],\n        [-1],\n        [-1],\n        [-1],\n        [-1],\n        [-1],\n        [-1],\n        [-1],\n        [-1],\n        [-1],\n        [-1],\n        [-1],\n        [-1],\n        [-1],\n        [-1],\n        [-1],\n        [-1],\n        [-1],\n        [-1],\n        [-1],\n        [-1],\n        [-1],\n        [-1],\n        [-1],\n        [-1],\n        [-1],\n        [-1],\n        [-1],\n        [-1],\n        [-1],\n        [-1],\n        [-1],\n        [-1],\n        [-1],\n        [-1],\n        [-1],\n        [-1],\n        [-1],\n        [-1],\n        [-1],\n        [-1],\n        [-1],\n        [-1],\n        [-1],\n        [-1],\n        [-1],\n        [-1],\n        [-1],\n        [-1],\n        [-1],\n        [-1],\n        [-1],\n        [-1],\n        [-1],\n        [-1],\n        [-1],\n        [-1],\n        [-1],\n        [-1],\n        [-1],\n        [-1],\n        [-1],\n        [-1],\n        [-1],\n        [-1],\n        [-1],\n        [-1],\n        [-1],\n        [-1],\n        [-1],\n        [-1],\n        [-1],\n        [-1],\n        [-1],\n        [-1],\n        [-1],\n        [-1],\n        [-1],\n        [-1],\n        [-1],\n        [-1],\n        [-1],\n        [-1],\n        [-1],\n        [-1],\n        [-1],\n        [-1],\n        [-1],\n        [-1],\n        [-1],\n        [-1],\n        [-1],\n        [-1],\n        [-1],\n        [-1],\n        [-1],\n        [-1],\n        [-1],\n        [-1],\n        [-1],\n        [-1],\n        [-1],\n        [-1],\n        [-1],\n        [-1],\n        [-1],\n        [-1],\n        [-1],\n        [-1],\n        [-1],\n        [-1],\n        [-1],\n        [-1],\n        [-1],\n        [-1],\n        [-1],\n        [-1],\n        [-1],\n        [-1],\n        [-1],\n        [-1],\n        [-1],\n        [-1],\n        [-1],\n        [-1],\n        [-1],\n        [-1],\n        [-1],\n        [-1],\n        [-1],\n        [-1],\n        [-1],\n        [-1],\n        [-1],\n        [-1],\n        [-1],\n        [-1],\n        [-1],\n        [-1],\n        [-1],\n        [-1],\n        [-1],\n        [-1],\n        [-1],\n        [-1],\n        [-1],\n        [-1],\n        [-1],\n        [-1],\n        [-1],\n        [-1],\n        [-1],\n        [-1],\n        [-1],\n        [-1],\n        [-1],\n        [-1],\n        [-1],\n        [-1],\n        [-1],\n        [-1],\n        [-1],\n        [-1],\n        [-1],\n        [-1],\n        [-1],\n        [-1],\n        [-1],\n        [-1],\n        [-1],\n        [-1],\n        [-1],\n        [-1],\n        [-1],\n        [-1],\n        [-1],\n        [-1],\n        [-1],\n        [-1],\n        [-1],\n        [-1],\n        [-1],\n        [-1],\n        [-1],\n        [-1],\n        [-1],\n        [-1],\n        [-1],\n        [-1],\n        [-1],\n        [-1],\n        [-1],\n        [-1],\n        [-1],\n        [-1],\n        [-1],\n        [-1],\n        [-1],\n        [-1],\n        [-1],\n        [-1],\n        [-1],\n        [-1],\n        [-1],\n        [-1],\n        [-1],\n        [-1],\n        [-1],\n        [-1],\n        [-1],\n        [-1],\n        [-1],\n        [-1],\n        [-1],\n        [-1],\n        [-1],\n        [-1],\n        [-1],\n        [-1],\n        [-1],\n        [-1],\n        [-1],\n        [-1],\n        [-1],\n        [-1],\n        [-1],\n        [-1],\n        [-1],\n        [-1],\n        [-1],\n        [-1],\n        [-1],\n        [-1],\n        [-1],\n        [-1],\n        [-1],\n        [-1],\n        [-1],\n        [-1],\n        [-1],\n        [-1],\n        [-1],\n        [-1],\n        [-1],\n        [-1],\n        [-1],\n        [-1],\n        [-1],\n        [-1],\n        [-1],\n        [-1],\n        [-1],\n        [-1],\n        [-1],\n        [-1],\n        [-1],\n        [-1],\n        [-1],\n        [-1],\n        [-1],\n        [-1],\n        [-1],\n        [-1],\n        [-1],\n        [-1],\n        [-1],\n        [-1],\n        [-1],\n        [-1],\n        [-1],\n        [-1],\n        [-1],\n        [-1],\n        [-1],\n        [-1],\n        [-1],\n        [-1],\n        [-1],\n        [-1],\n        [-1],\n        [-1],\n        [-1],\n        [-1],\n        [-1],\n        [-1],\n        [-1],\n        [-1],\n        [-1],\n        [-1],\n        [-1],\n        [-1],\n        [-1],\n        [-1],\n        [-1],\n        [-1],\n        [-1],\n        [-1],\n        [-1],\n        [-1],\n        [-1],\n        [-1],\n        [-1],\n        [-1],\n        [-1],\n        [-1],\n        [-1],\n        [-1],\n        [-1],\n        [-1],\n        [-1],\n        [-1],\n        [-1],\n        [-1],\n        [-1],\n        [-1],\n        [-1],\n        [-1],\n        [-1],\n        [-1],\n        [-1],\n        [-1],\n        [-1],\n        [-1],\n        [-1],\n        [-1],\n        [-1],\n        [-1],\n        [-1],\n        [-1],\n        [-1],\n        [-1],\n        [-1],\n        [-1],\n        [-1],\n        [-1],\n        [-1],\n        [-1],\n        [-1],\n        [-1],\n        [-1],\n        [-1],\n        [-1],\n        [-1],\n        [-1],\n        [-1],\n        [-1],\n        [-1],\n        [-1],\n        [-1],\n        [-1],\n        [-1],\n        [-1],\n        [-1],\n        [-1],\n        [-1],\n        [-1],\n        [-1],\n        [-1],\n        [-1],\n        [-1],\n        [-1],\n        [-1],\n        [-1],\n        [-1],\n        [-1],\n        [-1],\n        [-1],\n        [-1],\n        [-1],\n        [-1],\n        [-1],\n        [-1],\n        [-1],\n        [-1],\n        [-1],\n        [-1],\n        [-1],\n        [-1],\n        [-1],\n        [-1],\n        [-1],\n        [-1],\n        [-1],\n        [-1],\n        [-1],\n        [-1],\n        [-1],\n        [-1],\n        [-1],\n        [-1],\n        [-1],\n        [-1],\n        [-1],\n        [-1],\n        [-1],\n        [-1],\n        [-1],\n        [-1],\n        [-1],\n        [-1],\n        [-1],\n        [-1],\n        [-1],\n        [-1],\n        [-1],\n        [-1],\n        [-1],\n        [-1],\n        [-1],\n        [-1],\n        [-1],\n        [-1],\n        [-1],\n        [-1],\n        [-1],\n        [-1],\n        [-1],\n        [-1],\n        [-1],\n        [-1],\n        [-1],\n        [-1],\n        [-1],\n        [-1],\n        [-1],\n        [-1],\n        [-1],\n        [-1],\n        [-1],\n        [-1],\n        [-1],\n        [-1],\n        [-1],\n        [-1],\n        [-1],\n        [-1],\n        [-1],\n        [-1],\n        [-1],\n        [-1],\n        [-1],\n        [-1],\n        [-1],\n        [-1],\n        [-1],\n        [-1],\n        [-1],\n        [-1],\n        [-1],\n        [-1],\n        [-1],\n        [-1],\n        [-1],\n        [-1],\n        [-1],\n        [-1],\n        [-1],\n        [-1],\n        [-1],\n        [-1],\n        [-1],\n        [-1],\n        [-1],\n        [-1],\n        [-1],\n        [-1],\n        [-1],\n        [-1],\n        [-1],\n        [-1],\n        [-1],\n        [-1],\n        [-1],\n        [-1],\n        [-1],\n        [-1],\n        [-1],\n        [-1]], dtype=int64),\n array([[1],\n        [1],\n        [1],\n        ...,\n        [1],\n        [1],\n        [1]], dtype=int64))"
     },
     "execution_count": 6,
     "metadata": {},
     "output_type": "execute_result"
    }
   ],
   "source": [
    "X_highrisk = data_highrisk\n",
    "X_midrisk_and_safe = data_midrisk_and_safe\n",
    "y_highrisk = label_highrisk.values\n",
    "y_midrisk_and_safe = label_midrisk_and_safe.values\n",
    "y_highrisk, y_midrisk_and_safe"
   ],
   "metadata": {
    "collapsed": false,
    "pycharm": {
     "name": "#%%\n"
    }
   }
  },
  {
   "cell_type": "code",
   "execution_count": 7,
   "outputs": [],
   "source": [
    "# from sklearn.svm import OneClassSVM\n",
    "# from sklearn.model_selection import StratifiedKFold\n",
    "# from sklearn.base import clone\n",
    "# from sklearn.metrics import accuracy_score\n",
    "# model = OneClassSVM(kernel='rbf', gamma='auto', nu=0.001)\n",
    "# skf = StratifiedKFold(n_splits=10, shuffle=True)\n",
    "# # 5次5折交叉验证\n",
    "# accuracy_save = []\n",
    "# for i in range(5):\n",
    "#     for train_index, test_index in skf.split(X, y):\n",
    "#         # 复制一个纯净模型\n",
    "#         clf = clone(model)\n",
    "#         # K折\n",
    "#         X_train_folds = X[train_index]\n",
    "#         y_train_folds = y[train_index]\n",
    "#         X_test_fold = X[test_index]\n",
    "#         y_test_fold = y[test_index]\n",
    "#         # 训练模型\n",
    "#         clf.fit(X_train_folds)\n",
    "#         # 预测测试集\n",
    "#         test_labels_pred = clf.predict(X_test_fold)\n",
    "#         # 计算指标\n",
    "#         #f1_score_fold = f1_score(y_test_fold, test_labels_pred, average=\"weighted\")\n",
    "#         acc_fold = accuracy_score(y_test_fold, test_labels_pred)\n",
    "#         #f1_save.append(f1_score_fold)\n",
    "#         accuracy_save.append(acc_fold)\n",
    "#         #print(classification_report(y_test_fold, test_labels_pred))\n",
    "# print('平均f1 score为：')\n",
    "# #print(np.array(f1_save).mean())\n",
    "# print('平均准确率为：')\n",
    "# print(np.array(accuracy_save).mean())"
   ],
   "metadata": {
    "collapsed": false,
    "pycharm": {
     "name": "#%%\n"
    }
   }
  },
  {
   "cell_type": "code",
   "execution_count": 12,
   "outputs": [
    {
     "name": "stdout",
     "output_type": "stream",
     "text": [
      "平均准确率为：\n",
      "0.6739811912225705\n"
     ]
    }
   ],
   "source": [
    "from sklearn.svm import OneClassSVM\n",
    "from sklearn.model_selection import StratifiedKFold\n",
    "from sklearn.base import clone\n",
    "from sklearn.metrics import accuracy_score\n",
    "model = OneClassSVM(kernel='rbf', gamma='auto', nu=0.1)\n",
    "model.fit(X_midrisk_and_safe)\n",
    "# 训练模型\n",
    "# 预测测试集\n",
    "test_labels_pred = model.predict(X_highrisk)\n",
    "# 计算指标\n",
    "#f1_score_fold = f1_score(y_test_fold, test_labels_pred, average=\"weighted\")\n",
    "acc = accuracy_score(y_highrisk, test_labels_pred)\n",
    "print('平均准确率为：')\n",
    "print(acc)"
   ],
   "metadata": {
    "collapsed": false,
    "pycharm": {
     "name": "#%%\n"
    }
   }
  },
  {
   "cell_type": "code",
   "execution_count": 8,
   "outputs": [],
   "source": [],
   "metadata": {
    "collapsed": false,
    "pycharm": {
     "name": "#%%\n"
    }
   }
  },
  {
   "cell_type": "code",
   "execution_count": 8,
   "outputs": [],
   "source": [],
   "metadata": {
    "collapsed": false,
    "pycharm": {
     "name": "#%%\n"
    }
   }
  }
 ],
 "metadata": {
  "kernelspec": {
   "display_name": "Python 3",
   "language": "python",
   "name": "python3"
  },
  "language_info": {
   "codemirror_mode": {
    "name": "ipython",
    "version": 2
   },
   "file_extension": ".py",
   "mimetype": "text/x-python",
   "name": "python",
   "nbconvert_exporter": "python",
   "pygments_lexer": "ipython2",
   "version": "2.7.6"
  }
 },
 "nbformat": 4,
 "nbformat_minor": 0
}