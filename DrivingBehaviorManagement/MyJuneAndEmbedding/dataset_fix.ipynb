{
 "cells": [
  {
   "cell_type": "code",
   "execution_count": 1,
   "outputs": [
    {
     "data": {
      "text/plain": "       Unnamed: 0    No.            采集时间  脉冲车速(km/h)  油门踏板开度(%)  刹车  \\\n0               0  77102  20200910003900         4.0        0.0 NaN   \n1               1  77102  20200910013900         4.0        0.0 NaN   \n2               2  77102  20200910023900         4.0        0.0 NaN   \n3               3  77102  20200910033900         4.0        0.0 NaN   \n4               4  77102  20200910045001         4.0        0.0 NaN   \n...           ...    ...             ...         ...        ...  ..   \n45041       45041  77102  20200910235954        45.0        0.0 NaN   \n45042       45042  77102  20200910235955        45.0        0.0 NaN   \n45043       45043  77102  20200910235956        45.0        0.0 NaN   \n45044       45044  77102  20200910235957        44.5        0.0 NaN   \n45045       45045  77102  20200910235958        44.0        0.0 NaN   \n\n              纬度          经度    高度  转速(转/分)  总里程(KM)  \n0      35.749065  114.987006  40.0      NaN      NaN  \n1      35.749172  114.986916  53.0      NaN      NaN  \n2      35.749160  114.986871  47.0      NaN      NaN  \n3      35.749029  114.986864  49.0      NaN      NaN  \n4            NaN         NaN   NaN    700.0  35136.0  \n...          ...         ...   ...      ...      ...  \n45041        NaN         NaN   NaN    920.0  35551.8  \n45042        NaN         NaN   NaN      NaN      NaN  \n45043        NaN         NaN   NaN    920.0  35551.8  \n45044        NaN         NaN   NaN      NaN      NaN  \n45045  35.771257  114.281969  94.0    900.0  35551.8  \n\n[45046 rows x 11 columns]",
      "text/html": "<div>\n<style scoped>\n    .dataframe tbody tr th:only-of-type {\n        vertical-align: middle;\n    }\n\n    .dataframe tbody tr th {\n        vertical-align: top;\n    }\n\n    .dataframe thead th {\n        text-align: right;\n    }\n</style>\n<table border=\"1\" class=\"dataframe\">\n  <thead>\n    <tr style=\"text-align: right;\">\n      <th></th>\n      <th>Unnamed: 0</th>\n      <th>No.</th>\n      <th>采集时间</th>\n      <th>脉冲车速(km/h)</th>\n      <th>油门踏板开度(%)</th>\n      <th>刹车</th>\n      <th>纬度</th>\n      <th>经度</th>\n      <th>高度</th>\n      <th>转速(转/分)</th>\n      <th>总里程(KM)</th>\n    </tr>\n  </thead>\n  <tbody>\n    <tr>\n      <th>0</th>\n      <td>0</td>\n      <td>77102</td>\n      <td>20200910003900</td>\n      <td>4.0</td>\n      <td>0.0</td>\n      <td>NaN</td>\n      <td>35.749065</td>\n      <td>114.987006</td>\n      <td>40.0</td>\n      <td>NaN</td>\n      <td>NaN</td>\n    </tr>\n    <tr>\n      <th>1</th>\n      <td>1</td>\n      <td>77102</td>\n      <td>20200910013900</td>\n      <td>4.0</td>\n      <td>0.0</td>\n      <td>NaN</td>\n      <td>35.749172</td>\n      <td>114.986916</td>\n      <td>53.0</td>\n      <td>NaN</td>\n      <td>NaN</td>\n    </tr>\n    <tr>\n      <th>2</th>\n      <td>2</td>\n      <td>77102</td>\n      <td>20200910023900</td>\n      <td>4.0</td>\n      <td>0.0</td>\n      <td>NaN</td>\n      <td>35.749160</td>\n      <td>114.986871</td>\n      <td>47.0</td>\n      <td>NaN</td>\n      <td>NaN</td>\n    </tr>\n    <tr>\n      <th>3</th>\n      <td>3</td>\n      <td>77102</td>\n      <td>20200910033900</td>\n      <td>4.0</td>\n      <td>0.0</td>\n      <td>NaN</td>\n      <td>35.749029</td>\n      <td>114.986864</td>\n      <td>49.0</td>\n      <td>NaN</td>\n      <td>NaN</td>\n    </tr>\n    <tr>\n      <th>4</th>\n      <td>4</td>\n      <td>77102</td>\n      <td>20200910045001</td>\n      <td>4.0</td>\n      <td>0.0</td>\n      <td>NaN</td>\n      <td>NaN</td>\n      <td>NaN</td>\n      <td>NaN</td>\n      <td>700.0</td>\n      <td>35136.0</td>\n    </tr>\n    <tr>\n      <th>...</th>\n      <td>...</td>\n      <td>...</td>\n      <td>...</td>\n      <td>...</td>\n      <td>...</td>\n      <td>...</td>\n      <td>...</td>\n      <td>...</td>\n      <td>...</td>\n      <td>...</td>\n      <td>...</td>\n    </tr>\n    <tr>\n      <th>45041</th>\n      <td>45041</td>\n      <td>77102</td>\n      <td>20200910235954</td>\n      <td>45.0</td>\n      <td>0.0</td>\n      <td>NaN</td>\n      <td>NaN</td>\n      <td>NaN</td>\n      <td>NaN</td>\n      <td>920.0</td>\n      <td>35551.8</td>\n    </tr>\n    <tr>\n      <th>45042</th>\n      <td>45042</td>\n      <td>77102</td>\n      <td>20200910235955</td>\n      <td>45.0</td>\n      <td>0.0</td>\n      <td>NaN</td>\n      <td>NaN</td>\n      <td>NaN</td>\n      <td>NaN</td>\n      <td>NaN</td>\n      <td>NaN</td>\n    </tr>\n    <tr>\n      <th>45043</th>\n      <td>45043</td>\n      <td>77102</td>\n      <td>20200910235956</td>\n      <td>45.0</td>\n      <td>0.0</td>\n      <td>NaN</td>\n      <td>NaN</td>\n      <td>NaN</td>\n      <td>NaN</td>\n      <td>920.0</td>\n      <td>35551.8</td>\n    </tr>\n    <tr>\n      <th>45044</th>\n      <td>45044</td>\n      <td>77102</td>\n      <td>20200910235957</td>\n      <td>44.5</td>\n      <td>0.0</td>\n      <td>NaN</td>\n      <td>NaN</td>\n      <td>NaN</td>\n      <td>NaN</td>\n      <td>NaN</td>\n      <td>NaN</td>\n    </tr>\n    <tr>\n      <th>45045</th>\n      <td>45045</td>\n      <td>77102</td>\n      <td>20200910235958</td>\n      <td>44.0</td>\n      <td>0.0</td>\n      <td>NaN</td>\n      <td>35.771257</td>\n      <td>114.281969</td>\n      <td>94.0</td>\n      <td>900.0</td>\n      <td>35551.8</td>\n    </tr>\n  </tbody>\n</table>\n<p>45046 rows × 11 columns</p>\n</div>"
     },
     "execution_count": 1,
     "metadata": {},
     "output_type": "execute_result"
    }
   ],
   "source": [
    "import os\n",
    "import pandas as pd\n",
    "import numpy as np\n",
    "import datetime\n",
    "from math import sqrt, pow, acos\n",
    "from pandas.core.frame import DataFrame\n",
    "folder_name = [\"077102\", \"078351\", \"078837\", \"080913\", \"082529\",\n",
    "                            \"090798\", \"098840\", \"108140\", \"112839\"]\n",
    "filename_extenstion = '.csv'\n",
    "datasetpath = \"D:/RX-105/wakeup/dataset/\"\n",
    "datapath = 'D:/RX-105/wakeup/data/'\n",
    "eventpath = \"D:/RX-105/wakeup/MyJuneAndEmbedding/event/\"\n",
    "\n",
    "df = pd.read_csv(datasetpath + '077102' + '/' + '20200910' + filename_extenstion,\n",
    "                 encoding='gbk')\n",
    "df"
   ],
   "metadata": {
    "collapsed": false,
    "pycharm": {
     "name": "#%%\n"
    }
   }
  },
  {
   "cell_type": "code",
   "execution_count": 2,
   "outputs": [
    {
     "data": {
      "text/plain": "       Unnamed: 0    No.            采集时间  脉冲车速(km/h)  油门踏板开度(%)  刹车  \\\n4               4  77102  20200910045001         4.0        0.0 NaN   \n5               5  77102  20200910045003         5.0        0.0 NaN   \n6               6  77102  20200910045005         7.0        0.0 NaN   \n7               7  77102  20200910045007         6.0        0.0 NaN   \n8               8  77102  20200910045008         6.5        0.0 NaN   \n...           ...    ...             ...         ...        ...  ..   \n45041       45041  77102  20200910235954        45.0        0.0 NaN   \n45042       45042  77102  20200910235955        45.0        0.0 NaN   \n45043       45043  77102  20200910235956        45.0        0.0 NaN   \n45044       45044  77102  20200910235957        44.5        0.0 NaN   \n45045       45045  77102  20200910235958        44.0        0.0 NaN   \n\n              纬度          经度    高度  转速(转/分)  总里程(KM)  \n4            NaN         NaN   NaN    700.0  35136.0  \n5      35.750980  114.970816  37.0    620.0  35136.0  \n6            NaN         NaN   NaN    660.0  35136.0  \n7            NaN         NaN   NaN    660.0  35136.0  \n8      35.751027  114.970751  36.0      NaN      NaN  \n...          ...         ...   ...      ...      ...  \n45041        NaN         NaN   NaN    920.0  35551.8  \n45042        NaN         NaN   NaN      NaN      NaN  \n45043        NaN         NaN   NaN    920.0  35551.8  \n45044        NaN         NaN   NaN      NaN      NaN  \n45045  35.771257  114.281969  94.0    900.0  35551.8  \n\n[45042 rows x 11 columns]",
      "text/html": "<div>\n<style scoped>\n    .dataframe tbody tr th:only-of-type {\n        vertical-align: middle;\n    }\n\n    .dataframe tbody tr th {\n        vertical-align: top;\n    }\n\n    .dataframe thead th {\n        text-align: right;\n    }\n</style>\n<table border=\"1\" class=\"dataframe\">\n  <thead>\n    <tr style=\"text-align: right;\">\n      <th></th>\n      <th>Unnamed: 0</th>\n      <th>No.</th>\n      <th>采集时间</th>\n      <th>脉冲车速(km/h)</th>\n      <th>油门踏板开度(%)</th>\n      <th>刹车</th>\n      <th>纬度</th>\n      <th>经度</th>\n      <th>高度</th>\n      <th>转速(转/分)</th>\n      <th>总里程(KM)</th>\n    </tr>\n  </thead>\n  <tbody>\n    <tr>\n      <th>4</th>\n      <td>4</td>\n      <td>77102</td>\n      <td>20200910045001</td>\n      <td>4.0</td>\n      <td>0.0</td>\n      <td>NaN</td>\n      <td>NaN</td>\n      <td>NaN</td>\n      <td>NaN</td>\n      <td>700.0</td>\n      <td>35136.0</td>\n    </tr>\n    <tr>\n      <th>5</th>\n      <td>5</td>\n      <td>77102</td>\n      <td>20200910045003</td>\n      <td>5.0</td>\n      <td>0.0</td>\n      <td>NaN</td>\n      <td>35.750980</td>\n      <td>114.970816</td>\n      <td>37.0</td>\n      <td>620.0</td>\n      <td>35136.0</td>\n    </tr>\n    <tr>\n      <th>6</th>\n      <td>6</td>\n      <td>77102</td>\n      <td>20200910045005</td>\n      <td>7.0</td>\n      <td>0.0</td>\n      <td>NaN</td>\n      <td>NaN</td>\n      <td>NaN</td>\n      <td>NaN</td>\n      <td>660.0</td>\n      <td>35136.0</td>\n    </tr>\n    <tr>\n      <th>7</th>\n      <td>7</td>\n      <td>77102</td>\n      <td>20200910045007</td>\n      <td>6.0</td>\n      <td>0.0</td>\n      <td>NaN</td>\n      <td>NaN</td>\n      <td>NaN</td>\n      <td>NaN</td>\n      <td>660.0</td>\n      <td>35136.0</td>\n    </tr>\n    <tr>\n      <th>8</th>\n      <td>8</td>\n      <td>77102</td>\n      <td>20200910045008</td>\n      <td>6.5</td>\n      <td>0.0</td>\n      <td>NaN</td>\n      <td>35.751027</td>\n      <td>114.970751</td>\n      <td>36.0</td>\n      <td>NaN</td>\n      <td>NaN</td>\n    </tr>\n    <tr>\n      <th>...</th>\n      <td>...</td>\n      <td>...</td>\n      <td>...</td>\n      <td>...</td>\n      <td>...</td>\n      <td>...</td>\n      <td>...</td>\n      <td>...</td>\n      <td>...</td>\n      <td>...</td>\n      <td>...</td>\n    </tr>\n    <tr>\n      <th>45041</th>\n      <td>45041</td>\n      <td>77102</td>\n      <td>20200910235954</td>\n      <td>45.0</td>\n      <td>0.0</td>\n      <td>NaN</td>\n      <td>NaN</td>\n      <td>NaN</td>\n      <td>NaN</td>\n      <td>920.0</td>\n      <td>35551.8</td>\n    </tr>\n    <tr>\n      <th>45042</th>\n      <td>45042</td>\n      <td>77102</td>\n      <td>20200910235955</td>\n      <td>45.0</td>\n      <td>0.0</td>\n      <td>NaN</td>\n      <td>NaN</td>\n      <td>NaN</td>\n      <td>NaN</td>\n      <td>NaN</td>\n      <td>NaN</td>\n    </tr>\n    <tr>\n      <th>45043</th>\n      <td>45043</td>\n      <td>77102</td>\n      <td>20200910235956</td>\n      <td>45.0</td>\n      <td>0.0</td>\n      <td>NaN</td>\n      <td>NaN</td>\n      <td>NaN</td>\n      <td>NaN</td>\n      <td>920.0</td>\n      <td>35551.8</td>\n    </tr>\n    <tr>\n      <th>45044</th>\n      <td>45044</td>\n      <td>77102</td>\n      <td>20200910235957</td>\n      <td>44.5</td>\n      <td>0.0</td>\n      <td>NaN</td>\n      <td>NaN</td>\n      <td>NaN</td>\n      <td>NaN</td>\n      <td>NaN</td>\n      <td>NaN</td>\n    </tr>\n    <tr>\n      <th>45045</th>\n      <td>45045</td>\n      <td>77102</td>\n      <td>20200910235958</td>\n      <td>44.0</td>\n      <td>0.0</td>\n      <td>NaN</td>\n      <td>35.771257</td>\n      <td>114.281969</td>\n      <td>94.0</td>\n      <td>900.0</td>\n      <td>35551.8</td>\n    </tr>\n  </tbody>\n</table>\n<p>45042 rows × 11 columns</p>\n</div>"
     },
     "execution_count": 2,
     "metadata": {},
     "output_type": "execute_result"
    }
   ],
   "source": [
    "for i in range(4):\n",
    "    df.drop(labels=i,inplace=True)\n",
    "df"
   ],
   "metadata": {
    "collapsed": false,
    "pycharm": {
     "name": "#%%\n"
    }
   }
  },
  {
   "cell_type": "code",
   "execution_count": 3,
   "outputs": [
    {
     "data": {
      "text/plain": "       Unnamed: 0    No.            采集时间  脉冲车速(km/h)  油门踏板开度(%)  刹车  \\\n0               4  77102  20200910045001         4.0        0.0 NaN   \n1               5  77102  20200910045003         5.0        0.0 NaN   \n2               6  77102  20200910045005         7.0        0.0 NaN   \n3               7  77102  20200910045007         6.0        0.0 NaN   \n4               8  77102  20200910045008         6.5        0.0 NaN   \n...           ...    ...             ...         ...        ...  ..   \n45037       45041  77102  20200910235954        45.0        0.0 NaN   \n45038       45042  77102  20200910235955        45.0        0.0 NaN   \n45039       45043  77102  20200910235956        45.0        0.0 NaN   \n45040       45044  77102  20200910235957        44.5        0.0 NaN   \n45041       45045  77102  20200910235958        44.0        0.0 NaN   \n\n              纬度          经度    高度  转速(转/分)  总里程(KM)  \n0            NaN         NaN   NaN    700.0  35136.0  \n1      35.750980  114.970816  37.0    620.0  35136.0  \n2            NaN         NaN   NaN    660.0  35136.0  \n3            NaN         NaN   NaN    660.0  35136.0  \n4      35.751027  114.970751  36.0      NaN      NaN  \n...          ...         ...   ...      ...      ...  \n45037        NaN         NaN   NaN    920.0  35551.8  \n45038        NaN         NaN   NaN      NaN      NaN  \n45039        NaN         NaN   NaN    920.0  35551.8  \n45040        NaN         NaN   NaN      NaN      NaN  \n45041  35.771257  114.281969  94.0    900.0  35551.8  \n\n[45042 rows x 11 columns]",
      "text/html": "<div>\n<style scoped>\n    .dataframe tbody tr th:only-of-type {\n        vertical-align: middle;\n    }\n\n    .dataframe tbody tr th {\n        vertical-align: top;\n    }\n\n    .dataframe thead th {\n        text-align: right;\n    }\n</style>\n<table border=\"1\" class=\"dataframe\">\n  <thead>\n    <tr style=\"text-align: right;\">\n      <th></th>\n      <th>Unnamed: 0</th>\n      <th>No.</th>\n      <th>采集时间</th>\n      <th>脉冲车速(km/h)</th>\n      <th>油门踏板开度(%)</th>\n      <th>刹车</th>\n      <th>纬度</th>\n      <th>经度</th>\n      <th>高度</th>\n      <th>转速(转/分)</th>\n      <th>总里程(KM)</th>\n    </tr>\n  </thead>\n  <tbody>\n    <tr>\n      <th>0</th>\n      <td>4</td>\n      <td>77102</td>\n      <td>20200910045001</td>\n      <td>4.0</td>\n      <td>0.0</td>\n      <td>NaN</td>\n      <td>NaN</td>\n      <td>NaN</td>\n      <td>NaN</td>\n      <td>700.0</td>\n      <td>35136.0</td>\n    </tr>\n    <tr>\n      <th>1</th>\n      <td>5</td>\n      <td>77102</td>\n      <td>20200910045003</td>\n      <td>5.0</td>\n      <td>0.0</td>\n      <td>NaN</td>\n      <td>35.750980</td>\n      <td>114.970816</td>\n      <td>37.0</td>\n      <td>620.0</td>\n      <td>35136.0</td>\n    </tr>\n    <tr>\n      <th>2</th>\n      <td>6</td>\n      <td>77102</td>\n      <td>20200910045005</td>\n      <td>7.0</td>\n      <td>0.0</td>\n      <td>NaN</td>\n      <td>NaN</td>\n      <td>NaN</td>\n      <td>NaN</td>\n      <td>660.0</td>\n      <td>35136.0</td>\n    </tr>\n    <tr>\n      <th>3</th>\n      <td>7</td>\n      <td>77102</td>\n      <td>20200910045007</td>\n      <td>6.0</td>\n      <td>0.0</td>\n      <td>NaN</td>\n      <td>NaN</td>\n      <td>NaN</td>\n      <td>NaN</td>\n      <td>660.0</td>\n      <td>35136.0</td>\n    </tr>\n    <tr>\n      <th>4</th>\n      <td>8</td>\n      <td>77102</td>\n      <td>20200910045008</td>\n      <td>6.5</td>\n      <td>0.0</td>\n      <td>NaN</td>\n      <td>35.751027</td>\n      <td>114.970751</td>\n      <td>36.0</td>\n      <td>NaN</td>\n      <td>NaN</td>\n    </tr>\n    <tr>\n      <th>...</th>\n      <td>...</td>\n      <td>...</td>\n      <td>...</td>\n      <td>...</td>\n      <td>...</td>\n      <td>...</td>\n      <td>...</td>\n      <td>...</td>\n      <td>...</td>\n      <td>...</td>\n      <td>...</td>\n    </tr>\n    <tr>\n      <th>45037</th>\n      <td>45041</td>\n      <td>77102</td>\n      <td>20200910235954</td>\n      <td>45.0</td>\n      <td>0.0</td>\n      <td>NaN</td>\n      <td>NaN</td>\n      <td>NaN</td>\n      <td>NaN</td>\n      <td>920.0</td>\n      <td>35551.8</td>\n    </tr>\n    <tr>\n      <th>45038</th>\n      <td>45042</td>\n      <td>77102</td>\n      <td>20200910235955</td>\n      <td>45.0</td>\n      <td>0.0</td>\n      <td>NaN</td>\n      <td>NaN</td>\n      <td>NaN</td>\n      <td>NaN</td>\n      <td>NaN</td>\n      <td>NaN</td>\n    </tr>\n    <tr>\n      <th>45039</th>\n      <td>45043</td>\n      <td>77102</td>\n      <td>20200910235956</td>\n      <td>45.0</td>\n      <td>0.0</td>\n      <td>NaN</td>\n      <td>NaN</td>\n      <td>NaN</td>\n      <td>NaN</td>\n      <td>920.0</td>\n      <td>35551.8</td>\n    </tr>\n    <tr>\n      <th>45040</th>\n      <td>45044</td>\n      <td>77102</td>\n      <td>20200910235957</td>\n      <td>44.5</td>\n      <td>0.0</td>\n      <td>NaN</td>\n      <td>NaN</td>\n      <td>NaN</td>\n      <td>NaN</td>\n      <td>NaN</td>\n      <td>NaN</td>\n    </tr>\n    <tr>\n      <th>45041</th>\n      <td>45045</td>\n      <td>77102</td>\n      <td>20200910235958</td>\n      <td>44.0</td>\n      <td>0.0</td>\n      <td>NaN</td>\n      <td>35.771257</td>\n      <td>114.281969</td>\n      <td>94.0</td>\n      <td>900.0</td>\n      <td>35551.8</td>\n    </tr>\n  </tbody>\n</table>\n<p>45042 rows × 11 columns</p>\n</div>"
     },
     "execution_count": 3,
     "metadata": {},
     "output_type": "execute_result"
    }
   ],
   "source": [
    "df.reset_index(drop=True,inplace=True)\n",
    "df"
   ],
   "metadata": {
    "collapsed": false,
    "pycharm": {
     "name": "#%%\n"
    }
   }
  },
  {
   "cell_type": "code",
   "execution_count": 4,
   "outputs": [],
   "source": [
    "df.drop(labels='Unnamed: 0',axis=1,inplace=True)"
   ],
   "metadata": {
    "collapsed": false,
    "pycharm": {
     "name": "#%%\n"
    }
   }
  },
  {
   "cell_type": "code",
   "execution_count": 5,
   "outputs": [
    {
     "data": {
      "text/plain": "         No.            采集时间  脉冲车速(km/h)  油门踏板开度(%)  刹车         纬度  \\\n0      77102  20200910045001         4.0        0.0 NaN        NaN   \n1      77102  20200910045003         5.0        0.0 NaN  35.750980   \n2      77102  20200910045005         7.0        0.0 NaN        NaN   \n3      77102  20200910045007         6.0        0.0 NaN        NaN   \n4      77102  20200910045008         6.5        0.0 NaN  35.751027   \n...      ...             ...         ...        ...  ..        ...   \n45037  77102  20200910235954        45.0        0.0 NaN        NaN   \n45038  77102  20200910235955        45.0        0.0 NaN        NaN   \n45039  77102  20200910235956        45.0        0.0 NaN        NaN   \n45040  77102  20200910235957        44.5        0.0 NaN        NaN   \n45041  77102  20200910235958        44.0        0.0 NaN  35.771257   \n\n               经度    高度  转速(转/分)  总里程(KM)  \n0             NaN   NaN    700.0  35136.0  \n1      114.970816  37.0    620.0  35136.0  \n2             NaN   NaN    660.0  35136.0  \n3             NaN   NaN    660.0  35136.0  \n4      114.970751  36.0      NaN      NaN  \n...           ...   ...      ...      ...  \n45037         NaN   NaN    920.0  35551.8  \n45038         NaN   NaN      NaN      NaN  \n45039         NaN   NaN    920.0  35551.8  \n45040         NaN   NaN      NaN      NaN  \n45041  114.281969  94.0    900.0  35551.8  \n\n[45042 rows x 10 columns]",
      "text/html": "<div>\n<style scoped>\n    .dataframe tbody tr th:only-of-type {\n        vertical-align: middle;\n    }\n\n    .dataframe tbody tr th {\n        vertical-align: top;\n    }\n\n    .dataframe thead th {\n        text-align: right;\n    }\n</style>\n<table border=\"1\" class=\"dataframe\">\n  <thead>\n    <tr style=\"text-align: right;\">\n      <th></th>\n      <th>No.</th>\n      <th>采集时间</th>\n      <th>脉冲车速(km/h)</th>\n      <th>油门踏板开度(%)</th>\n      <th>刹车</th>\n      <th>纬度</th>\n      <th>经度</th>\n      <th>高度</th>\n      <th>转速(转/分)</th>\n      <th>总里程(KM)</th>\n    </tr>\n  </thead>\n  <tbody>\n    <tr>\n      <th>0</th>\n      <td>77102</td>\n      <td>20200910045001</td>\n      <td>4.0</td>\n      <td>0.0</td>\n      <td>NaN</td>\n      <td>NaN</td>\n      <td>NaN</td>\n      <td>NaN</td>\n      <td>700.0</td>\n      <td>35136.0</td>\n    </tr>\n    <tr>\n      <th>1</th>\n      <td>77102</td>\n      <td>20200910045003</td>\n      <td>5.0</td>\n      <td>0.0</td>\n      <td>NaN</td>\n      <td>35.750980</td>\n      <td>114.970816</td>\n      <td>37.0</td>\n      <td>620.0</td>\n      <td>35136.0</td>\n    </tr>\n    <tr>\n      <th>2</th>\n      <td>77102</td>\n      <td>20200910045005</td>\n      <td>7.0</td>\n      <td>0.0</td>\n      <td>NaN</td>\n      <td>NaN</td>\n      <td>NaN</td>\n      <td>NaN</td>\n      <td>660.0</td>\n      <td>35136.0</td>\n    </tr>\n    <tr>\n      <th>3</th>\n      <td>77102</td>\n      <td>20200910045007</td>\n      <td>6.0</td>\n      <td>0.0</td>\n      <td>NaN</td>\n      <td>NaN</td>\n      <td>NaN</td>\n      <td>NaN</td>\n      <td>660.0</td>\n      <td>35136.0</td>\n    </tr>\n    <tr>\n      <th>4</th>\n      <td>77102</td>\n      <td>20200910045008</td>\n      <td>6.5</td>\n      <td>0.0</td>\n      <td>NaN</td>\n      <td>35.751027</td>\n      <td>114.970751</td>\n      <td>36.0</td>\n      <td>NaN</td>\n      <td>NaN</td>\n    </tr>\n    <tr>\n      <th>...</th>\n      <td>...</td>\n      <td>...</td>\n      <td>...</td>\n      <td>...</td>\n      <td>...</td>\n      <td>...</td>\n      <td>...</td>\n      <td>...</td>\n      <td>...</td>\n      <td>...</td>\n    </tr>\n    <tr>\n      <th>45037</th>\n      <td>77102</td>\n      <td>20200910235954</td>\n      <td>45.0</td>\n      <td>0.0</td>\n      <td>NaN</td>\n      <td>NaN</td>\n      <td>NaN</td>\n      <td>NaN</td>\n      <td>920.0</td>\n      <td>35551.8</td>\n    </tr>\n    <tr>\n      <th>45038</th>\n      <td>77102</td>\n      <td>20200910235955</td>\n      <td>45.0</td>\n      <td>0.0</td>\n      <td>NaN</td>\n      <td>NaN</td>\n      <td>NaN</td>\n      <td>NaN</td>\n      <td>NaN</td>\n      <td>NaN</td>\n    </tr>\n    <tr>\n      <th>45039</th>\n      <td>77102</td>\n      <td>20200910235956</td>\n      <td>45.0</td>\n      <td>0.0</td>\n      <td>NaN</td>\n      <td>NaN</td>\n      <td>NaN</td>\n      <td>NaN</td>\n      <td>920.0</td>\n      <td>35551.8</td>\n    </tr>\n    <tr>\n      <th>45040</th>\n      <td>77102</td>\n      <td>20200910235957</td>\n      <td>44.5</td>\n      <td>0.0</td>\n      <td>NaN</td>\n      <td>NaN</td>\n      <td>NaN</td>\n      <td>NaN</td>\n      <td>NaN</td>\n      <td>NaN</td>\n    </tr>\n    <tr>\n      <th>45041</th>\n      <td>77102</td>\n      <td>20200910235958</td>\n      <td>44.0</td>\n      <td>0.0</td>\n      <td>NaN</td>\n      <td>35.771257</td>\n      <td>114.281969</td>\n      <td>94.0</td>\n      <td>900.0</td>\n      <td>35551.8</td>\n    </tr>\n  </tbody>\n</table>\n<p>45042 rows × 10 columns</p>\n</div>"
     },
     "execution_count": 5,
     "metadata": {},
     "output_type": "execute_result"
    }
   ],
   "source": [
    "df"
   ],
   "metadata": {
    "collapsed": false,
    "pycharm": {
     "name": "#%%\n"
    }
   }
  },
  {
   "cell_type": "code",
   "execution_count": 6,
   "outputs": [],
   "source": [
    "df.to_csv(datasetpath + '077102' + '/' + '20200910fix' + filename_extenstion,\n",
    "                 encoding='gbk')"
   ],
   "metadata": {
    "collapsed": false,
    "pycharm": {
     "name": "#%%\n"
    }
   }
  },
  {
   "cell_type": "code",
   "execution_count": null,
   "outputs": [],
   "source": [],
   "metadata": {
    "collapsed": false,
    "pycharm": {
     "name": "#%%\n"
    }
   }
  }
 ],
 "metadata": {
  "kernelspec": {
   "display_name": "Python 3",
   "language": "python",
   "name": "python3"
  },
  "language_info": {
   "codemirror_mode": {
    "name": "ipython",
    "version": 2
   },
   "file_extension": ".py",
   "mimetype": "text/x-python",
   "name": "python",
   "nbconvert_exporter": "python",
   "pygments_lexer": "ipython2",
   "version": "2.7.6"
  }
 },
 "nbformat": 4,
 "nbformat_minor": 0
}