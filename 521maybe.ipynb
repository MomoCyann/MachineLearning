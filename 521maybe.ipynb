{
 "cells": [
  {
   "cell_type": "code",
   "execution_count": 4,
   "outputs": [
    {
     "name": "stdout",
     "output_type": "stream",
     "text": [
      "[1 3]\n",
      "[[ 1  2  3  4  5]\n",
      " [11 12 13 14 15]]\n",
      "(2,)\n",
      "(2, 5)\n"
     ]
    }
   ],
   "source": [
    "import numpy as np\n",
    "array1 = np.array([1,2,3,4])\n",
    "array2 = np.array([[1,2,3,4,5],\n",
    "              [6,7,8,9,10],\n",
    "              [11,12,13,14,15],\n",
    "              [16,17,18,19,20]])\n",
    "mask = [True, False, True, False]\n",
    "print(array1[mask])\n",
    "print(array2[mask])\n",
    "print(array1[mask].shape)\n",
    "print(array2[mask].shape)\n",
    "print(array2[mask].shape)"
   ],
   "metadata": {
    "collapsed": false,
    "pycharm": {
     "name": "#%%\n"
    }
   }
  }
 ],
 "metadata": {
  "kernelspec": {
   "display_name": "Python 3",
   "language": "python",
   "name": "python3"
  },
  "language_info": {
   "codemirror_mode": {
    "name": "ipython",
    "version": 3
   },
   "file_extension": ".py",
   "mimetype": "text/x-python",
   "name": "python",
   "nbconvert_exporter": "python",
   "pygments_lexer": "ipython3",
   "version": "3.7.8"
  }
 },
 "nbformat": 4,
 "nbformat_minor": 1
}